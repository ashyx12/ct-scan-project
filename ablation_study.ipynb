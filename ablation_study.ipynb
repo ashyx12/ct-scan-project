{
  "nbformat": 4,
  "nbformat_minor": 0,
  "metadata": {
    "colab": {
      "provenance": [],
      "authorship_tag": "ABX9TyOkxG9hgbZtNP1Xf99egAsY",
      "include_colab_link": true
    },
    "kernelspec": {
      "name": "python3",
      "display_name": "Python 3"
    },
    "language_info": {
      "name": "python"
    }
  },
  "cells": [
    {
      "cell_type": "markdown",
      "metadata": {
        "id": "view-in-github",
        "colab_type": "text"
      },
      "source": [
        "<a href=\"https://colab.research.google.com/github/ashyx12/ct-scan-project/blob/main/ablation_study.ipynb\" target=\"_parent\"><img src=\"https://colab.research.google.com/assets/colab-badge.svg\" alt=\"Open In Colab\"/></a>"
      ]
    },
    {
      "cell_type": "code",
      "execution_count": 1,
      "metadata": {
        "colab": {
          "base_uri": "https://localhost:8080/"
        },
        "id": "Ub3PydxL7JPB",
        "outputId": "ac62d019-f2d0-4546-8511-ecfb72c0cca6"
      },
      "outputs": [
        {
          "output_type": "stream",
          "name": "stdout",
          "text": [
            "Cloning into 'ct-scan-project'...\n",
            "remote: Enumerating objects: 60, done.\u001b[K\n",
            "remote: Counting objects: 100% (60/60), done.\u001b[K\n",
            "remote: Compressing objects: 100% (52/52), done.\u001b[K\n",
            "remote: Total 60 (delta 13), reused 24 (delta 2), pack-reused 0 (from 0)\u001b[K\n",
            "Receiving objects: 100% (60/60), 50.16 KiB | 1.07 MiB/s, done.\n",
            "Resolving deltas: 100% (13/13), done.\n",
            "Filtering content: 100% (15/15), 344.50 MiB | 31.33 MiB/s, done.\n"
          ]
        }
      ],
      "source": [
        "!git clone https://github.com/ashyx12/ct-scan-project.git"
      ]
    },
    {
      "cell_type": "code",
      "source": [],
      "metadata": {
        "id": "Mkzzuk9n7e7E"
      },
      "execution_count": null,
      "outputs": []
    }
  ]
}